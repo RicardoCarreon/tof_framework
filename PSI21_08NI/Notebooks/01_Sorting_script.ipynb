{
 "cells": [
  {
   "cell_type": "markdown",
   "metadata": {},
   "source": [
    "# Image processing notebook: Sorting script or MCP with metadata.txt\n",
    "\n",
    "### 00 - Introduction\n",
    "\n",
    "\n",
    "### Applied processing\n",
    "\n",
    "\n",
    "\n",
    "### Important Considerations\n",
    "it is better to do it exp by exp\n",
    "\n",
    "The dst folder will have two numbers as identifiers at the beginning, they are in order according to the processing\n"
   ]
  },
  {
   "cell_type": "code",
   "execution_count": 1,
   "metadata": {},
   "outputs": [],
   "source": [
    "import sys\n",
    "sys.path.append(r'..\\proc_functions')\n",
    "from sort_w_metadata import *"
   ]
  },
  {
   "cell_type": "code",
   "execution_count": 2,
   "metadata": {},
   "outputs": [],
   "source": [
    "# %load select_directory('src_dir')\n",
    "src_dir = r\"D:\\PSI21_08NI\\meas_copyRAW\\exp107_epithermal\""
   ]
  },
  {
   "cell_type": "code",
   "execution_count": 3,
   "metadata": {},
   "outputs": [],
   "source": [
    "# %load select_directory('dst_dir')\n",
    "dst_dir = r\"D:\\PSI21_08NI\\RAW_sorted\\exp107_epithermal\""
   ]
  },
  {
   "cell_type": "code",
   "execution_count": 4,
   "metadata": {},
   "outputs": [],
   "source": [
    "metadata_list = filter_files_dir (src_dir, file_name= 'Metadata.txt')"
   ]
  },
  {
   "cell_type": "code",
   "execution_count": 8,
   "metadata": {},
   "outputs": [],
   "source": [
    "Sorted_data = read_n_sort_metadata (metadata_list, max_number_exps = 100)"
   ]
  },
  {
   "cell_type": "code",
   "execution_count": 9,
   "metadata": {},
   "outputs": [
    {
     "name": "stderr",
     "output_type": "stream",
     "text": [
      "Copying...: 100%|████████████████████████████████| 4/4 [00:49<00:00, 12.43s/it]\n"
     ]
    }
   ],
   "source": [
    "copy_sorted_files(src_dir, dst_dir, Sorted_data, start_numbering = 3, action = 'copy')"
   ]
  },
  {
   "cell_type": "code",
   "execution_count": null,
   "metadata": {},
   "outputs": [],
   "source": []
  }
 ],
 "metadata": {
  "kernelspec": {
   "display_name": "Python 3",
   "language": "python",
   "name": "python3"
  },
  "language_info": {
   "codemirror_mode": {
    "name": "ipython",
    "version": 3
   },
   "file_extension": ".py",
   "mimetype": "text/x-python",
   "name": "python",
   "nbconvert_exporter": "python",
   "pygments_lexer": "ipython3",
   "version": "3.7.5"
  },
  "toc": {
   "base_numbering": 1,
   "nav_menu": {},
   "number_sections": true,
   "sideBar": true,
   "skip_h1_title": true,
   "title_cell": "Table of Contents",
   "title_sidebar": "Contents",
   "toc_cell": false,
   "toc_position": {},
   "toc_section_display": true,
   "toc_window_display": false
  }
 },
 "nbformat": 4,
 "nbformat_minor": 2
}
