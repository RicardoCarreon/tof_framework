{
 "cells": [
  {
   "cell_type": "markdown",
   "metadata": {},
   "source": [
    "# Image processing notebook: Overlap Correction and Pulse Averaging\n",
    "\n",
    "## 00 - Introduction\n",
    "This notebook gives the overlap corrected images and the images with averaged pulses. After this process, the image post processing should be applied to get the transmission image.\n",
    "\n",
    "## IMPORTANT\n",
    "This is valid for the experiments ordered for the `scrubbing` correction.\n",
    "\n",
    "**check any of the ShutterCount.txt files in the experiment to know the neutron count. Do not forget to modify it**\n",
    "\n",
    "### Applied processing\n",
    "The following processing is performed:\n",
    "\n",
    "- Overlap Correction \n",
    "\n",
    "\n",
    "### General notebook concept\n",
    "The general concept of this notebook is to perform the overlap correction and the averaging of the experiments as shown in the figure."
   ]
  },
  {
   "cell_type": "code",
   "execution_count": 8,
   "metadata": {},
   "outputs": [],
   "source": [
    "from overlap_corr_mod import *"
   ]
  },
  {
   "cell_type": "code",
   "execution_count": 9,
   "metadata": {},
   "outputs": [],
   "source": [
    "# %load select_directory('src')\n",
    "src = r\"C:\\Users\\carreon_r\\Documents\\IP_Python\\ICON20202063\\exp017_poin17C\\ordered_exp201\""
   ]
  },
  {
   "cell_type": "code",
   "execution_count": 10,
   "metadata": {},
   "outputs": [],
   "source": [
    "# %load select_directory('dst')\n",
    "dst = r\"C:\\Users\\carreon_r\\Documents\\IP_Python\\ICON20202063\\exp017_poin17C\\Processed_during BT\\Overlap_corrected\""
   ]
  },
  {
   "cell_type": "code",
   "execution_count": 11,
   "metadata": {
    "scrolled": true
   },
   "outputs": [
    {
     "name": "stderr",
     "output_type": "stream",
     "text": [
      "Processing Overlap Correction: 100%|█████████████| 6/6 [00:21<00:00,  3.51s/it]\n",
      "Processing Overlap Correction: 100%|█████████████| 9/9 [00:30<00:00,  3.35s/it]\n",
      "Processing Overlap Correction: 100%|█████████████| 8/8 [00:27<00:00,  3.44s/it]\n",
      "Processing Overlap Correction: 100%|█████████████| 8/8 [00:28<00:00,  3.62s/it]\n",
      "Processing Overlap Correction: 100%|█████████████| 6/6 [00:21<00:00,  3.56s/it]\n"
     ]
    }
   ],
   "source": [
    "mcpoc_correct_batch(src, dst, 9000 , scale=1.0, savetype=float, desc='Processing Overlap Correction')"
   ]
  },
  {
   "cell_type": "code",
   "execution_count": 12,
   "metadata": {},
   "outputs": [],
   "source": [
    "# %load select_directory('src_ref')\n",
    "src_ref = r\"C:\\Users\\carreon_r\\Documents\\IP_Python\\ICON20202063\\exp017_poin17C\\ordered_ref\""
   ]
  },
  {
   "cell_type": "code",
   "execution_count": 13,
   "metadata": {},
   "outputs": [],
   "source": [
    "# %load select_directory('dst_ref')\n",
    "dst_ref = r\"C:\\Users\\carreon_r\\Documents\\IP_Python\\ICON20202063\\exp017_poin17C\\Processed_during BT\\Overlap_corrected\""
   ]
  },
  {
   "cell_type": "code",
   "execution_count": 14,
   "metadata": {},
   "outputs": [
    {
     "name": "stderr",
     "output_type": "stream",
     "text": [
      "Processing Overlap Correction: 100%|█████████████| 6/6 [00:21<00:00,  3.52s/it]\n",
      "Processing Overlap Correction: 100%|███████████| 24/24 [01:23<00:00,  3.48s/it]\n",
      "Processing Overlap Correction: 100%|█████████████| 6/6 [00:20<00:00,  3.50s/it]\n"
     ]
    }
   ],
   "source": [
    "mcpoc_correct_batch(src_ref, dst_ref, 9000 , scale=1.0, savetype=float, desc='Processing Overlap Correction')"
   ]
  },
  {
   "cell_type": "code",
   "execution_count": null,
   "metadata": {},
   "outputs": [],
   "source": []
  }
 ],
 "metadata": {
  "kernelspec": {
   "display_name": "Python 3",
   "language": "python",
   "name": "python3"
  },
  "language_info": {
   "codemirror_mode": {
    "name": "ipython",
    "version": 3
   },
   "file_extension": ".py",
   "mimetype": "text/x-python",
   "name": "python",
   "nbconvert_exporter": "python",
   "pygments_lexer": "ipython3",
   "version": "3.7.5"
  },
  "toc": {
   "base_numbering": 1,
   "nav_menu": {},
   "number_sections": true,
   "sideBar": true,
   "skip_h1_title": true,
   "title_cell": "Table of Contents",
   "title_sidebar": "Contents",
   "toc_cell": false,
   "toc_position": {},
   "toc_section_display": true,
   "toc_window_display": false
  }
 },
 "nbformat": 4,
 "nbformat_minor": 4
}
