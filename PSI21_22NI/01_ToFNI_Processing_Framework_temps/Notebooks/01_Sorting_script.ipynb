{
 "cells": [
  {
   "cell_type": "markdown",
   "metadata": {},
   "source": [
    "# Image processing notebook: Sorting script or MCP with metadata.txt\n",
    "\n",
    "### 00 - Introduction\n",
    "\n",
    "\n",
    "### Applied processing\n",
    "\n",
    "\n",
    "\n",
    "### Important Considerations\n",
    "it is better to do it exp by exp\n",
    "\n",
    "The dst folder will have two numbers as identifiers at the beginning, they are in order according to the processing\n"
   ]
  },
  {
   "cell_type": "code",
   "execution_count": 16,
   "metadata": {},
   "outputs": [],
   "source": [
    "import sys\n",
    "sys.path.append(r'..\\proc_functions')\n",
    "from sort_w_metadata import *"
   ]
  },
  {
   "cell_type": "code",
   "execution_count": 26,
   "metadata": {},
   "outputs": [],
   "source": [
    "# %load select_directory('src_dir')\n",
    "src_dir = r\"E:\\PSI21_22NI\\100_raw\\exp303\""
   ]
  },
  {
   "cell_type": "code",
   "execution_count": 27,
   "metadata": {},
   "outputs": [],
   "source": [
    "# %load select_directory('dst_dir')\n",
    "dst_dir = r\"E:\\PSI21_22NI\\110_raw_sorted\\exp303\""
   ]
  },
  {
   "cell_type": "code",
   "execution_count": 28,
   "metadata": {},
   "outputs": [],
   "source": [
    "metadata_list = filter_files_dir (src_dir, file_name= 'Metadata.txt')"
   ]
  },
  {
   "cell_type": "code",
   "execution_count": 29,
   "metadata": {},
   "outputs": [],
   "source": [
    "Sorted_data = read_n_sort_metadata (metadata_list, max_number_exps = 100)"
   ]
  },
  {
   "cell_type": "code",
   "execution_count": 30,
   "metadata": {},
   "outputs": [
    {
     "name": "stderr",
     "output_type": "stream",
     "text": [
      "Copying...: 100%|████████████████████████████████| 7/7 [04:05<00:00, 35.01s/it]\n"
     ]
    }
   ],
   "source": [
    "copy_sorted_files(src_dir, dst_dir, Sorted_data, start_numbering = 0, action = 'copy')"
   ]
  },
  {
   "cell_type": "code",
   "execution_count": null,
   "metadata": {},
   "outputs": [],
   "source": []
  }
 ],
 "metadata": {
  "kernelspec": {
   "display_name": "Python 3 (ipykernel)",
   "language": "python",
   "name": "python3"
  },
  "language_info": {
   "codemirror_mode": {
    "name": "ipython",
    "version": 3
   },
   "file_extension": ".py",
   "mimetype": "text/x-python",
   "name": "python",
   "nbconvert_exporter": "python",
   "pygments_lexer": "ipython3",
   "version": "3.7.5"
  },
  "toc": {
   "base_numbering": 1,
   "nav_menu": {},
   "number_sections": true,
   "sideBar": true,
   "skip_h1_title": true,
   "title_cell": "Table of Contents",
   "title_sidebar": "Contents",
   "toc_cell": false,
   "toc_position": {},
   "toc_section_display": true,
   "toc_window_display": false
  }
 },
 "nbformat": 4,
 "nbformat_minor": 2
}
