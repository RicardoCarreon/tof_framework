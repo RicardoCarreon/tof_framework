{
 "cells": [
  {
   "cell_type": "markdown",
   "metadata": {},
   "source": [
    "# Image processing notebook: Overlap Correction and Pulse Averaging\n",
    "\n",
    "## 00 - Introduction\n",
    "This notebook gives the overlap corrected images and the images with averaged pulses. After this process, the image post processing should be applied to get the transmission image.\n",
    "\n",
    "## IMPORTANT\n",
    "This is valid for the experiments ordered for the `scrubbing` correction.\n",
    "\n",
    "**check any of the ShutterCount.txt files in the experiment to know the neutron count. Do not forget to modify it**\n",
    "\n",
    "### Applied processing\n",
    "The following processing is performed:\n",
    "\n",
    "- Overlap Correction \n",
    "\n",
    "\n",
    "### General notebook concept\n",
    "The general concept of this notebook is to perform the overlap correction and the averaging of the experiments as shown in the figure."
   ]
  },
  {
   "cell_type": "code",
   "execution_count": 8,
   "metadata": {},
   "outputs": [],
   "source": [
    "import sys\n",
    "sys.path.append(r'..\\proc_functions')\n",
    "from overlap_corr_mod import *"
   ]
  },
  {
   "cell_type": "code",
   "execution_count": 18,
   "metadata": {},
   "outputs": [],
   "source": [
    "# %load select_directory('src')\n",
    "src = r\"E:\\PSI21_22NI\\110_raw_sorted\\ref_Fe\""
   ]
  },
  {
   "cell_type": "code",
   "execution_count": 19,
   "metadata": {},
   "outputs": [],
   "source": [
    "# %load select_directory('dst')\n",
    "dst = r\"E:\\PSI21_22NI\\200_processed\\00_Overlap_corrected\\ref_Fe\""
   ]
  },
  {
   "cell_type": "code",
   "execution_count": 20,
   "metadata": {
    "scrolled": true
   },
   "outputs": [
    {
     "name": "stderr",
     "output_type": "stream",
     "text": [
      "Processing Overlap Correction: 100%|█████████████| 7/7 [00:24<00:00,  3.51s/it]\n",
      "Processing Overlap Correction: 100%|█████████████| 7/7 [00:24<00:00,  3.54s/it]\n",
      "Processing Overlap Correction: 100%|█████████████| 7/7 [00:24<00:00,  3.56s/it]\n",
      "Processing Overlap Correction: 100%|███████████| 14/14 [00:49<00:00,  3.57s/it]\n"
     ]
    }
   ],
   "source": [
    "mcpoc_correct_batch(src, dst, 9000 , scale=1.0, savetype=float, desc='Processing Overlap Correction')"
   ]
  },
  {
   "cell_type": "code",
   "execution_count": 13,
   "metadata": {},
   "outputs": [],
   "source": [
    "# %load select_directory('src_ref')\n",
    "src_ref = r\"E:\\PSI21_22NI\\110_raw_sorted\\ref_bb\""
   ]
  },
  {
   "cell_type": "code",
   "execution_count": 14,
   "metadata": {},
   "outputs": [],
   "source": [
    "# %load select_directory('dst_ref')\n",
    "dst_ref = r\"E:\\PSI21_22NI\\200_processed\\00_Overlap_corrected\\exp301\""
   ]
  },
  {
   "cell_type": "code",
   "execution_count": 15,
   "metadata": {},
   "outputs": [
    {
     "name": "stderr",
     "output_type": "stream",
     "text": [
      "Processing Overlap Correction: 100%|███████████| 14/14 [00:55<00:00,  3.98s/it]\n",
      "Processing Overlap Correction: 100%|█████████████| 8/8 [00:35<00:00,  4.48s/it]\n",
      "Processing Overlap Correction: 100%|█████████████| 7/7 [00:31<00:00,  4.49s/it]\n"
     ]
    }
   ],
   "source": [
    "mcpoc_correct_batch(src_ref, dst_ref, 9000 , scale=1.0, savetype=float, desc='Processing Overlap Correction')"
   ]
  },
  {
   "cell_type": "code",
   "execution_count": 12,
   "metadata": {},
   "outputs": [],
   "source": [
    "# %load select_directory('src')\n",
    "src = r\"E:\\PSI21_22NI\\000_Checking MCP detector chips_manually\\manual_check_after overlap corr\\Jongmin_december\""
   ]
  },
  {
   "cell_type": "code",
   "execution_count": 13,
   "metadata": {},
   "outputs": [],
   "source": [
    "# %load select_directory('dst')\n",
    "dst = r\"E:\\PSI21_22NI\\000_Checking MCP detector chips_manually\\manual_check_after overlap corr\\Jongmin_december\\Overlap_corrected\\exp301\""
   ]
  },
  {
   "cell_type": "code",
   "execution_count": 14,
   "metadata": {},
   "outputs": [
    {
     "name": "stderr",
     "output_type": "stream",
     "text": [
      "Processing Overlap Correction: 100%|███████████| 12/12 [00:34<00:00,  2.85s/it]\n",
      "Processing Overlap Correction: 100%|█████████████| 6/6 [00:19<00:00,  3.23s/it]\n",
      "Processing Overlap Correction: 0it [00:00, ?it/s]\n"
     ]
    }
   ],
   "source": [
    "mcpoc_correct_batch(src, dst, 9000 , scale=1.0, savetype=float, desc='Processing Overlap Correction')"
   ]
  },
  {
   "cell_type": "code",
   "execution_count": null,
   "metadata": {},
   "outputs": [],
   "source": []
  }
 ],
 "metadata": {
  "kernelspec": {
   "display_name": "Python 3 (ipykernel)",
   "language": "python",
   "name": "python3"
  },
  "language_info": {
   "codemirror_mode": {
    "name": "ipython",
    "version": 3
   },
   "file_extension": ".py",
   "mimetype": "text/x-python",
   "name": "python",
   "nbconvert_exporter": "python",
   "pygments_lexer": "ipython3",
   "version": "3.7.5"
  },
  "toc": {
   "base_numbering": 1,
   "nav_menu": {},
   "number_sections": true,
   "sideBar": true,
   "skip_h1_title": true,
   "title_cell": "Table of Contents",
   "title_sidebar": "Contents",
   "toc_cell": false,
   "toc_position": {},
   "toc_section_display": true,
   "toc_window_display": false
  }
 },
 "nbformat": 4,
 "nbformat_minor": 4
}
