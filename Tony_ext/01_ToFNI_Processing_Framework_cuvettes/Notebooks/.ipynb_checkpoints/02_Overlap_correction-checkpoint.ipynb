{
 "cells": [
  {
   "cell_type": "markdown",
   "metadata": {},
   "source": [
    "# Image processing notebook: Overlap Correction and Pulse Averaging\n",
    "\n",
    "## 00 - Introduction\n",
    "This notebook gives the overlap corrected images and the images with averaged pulses. After this process, the image post processing should be applied to get the transmission image.\n",
    "\n",
    "## IMPORTANT\n",
    "This is valid for the experiments ordered for the `scrubbing` correction.\n",
    "\n",
    "**check any of the ShutterCount.txt files in the experiment to know the neutron count. Do not forget to modify it**\n",
    "\n",
    "### Applied processing\n",
    "The following processing is performed:\n",
    "\n",
    "- Overlap Correction \n",
    "\n",
    "\n",
    "### General notebook concept\n",
    "The general concept of this notebook is to perform the overlap correction and the averaging of the experiments as shown in the figure."
   ]
  },
  {
   "cell_type": "code",
   "execution_count": 1,
   "metadata": {},
   "outputs": [],
   "source": [
    "import sys\n",
    "sys.path.append(r'..\\proc_functions')\n",
    "from overlap_corr_mod import *"
   ]
  },
  {
   "cell_type": "code",
   "execution_count": 5,
   "metadata": {},
   "outputs": [],
   "source": [
    "# %load select_directory('src')\n",
    "src = r\"D:\\PSI21_10NI\\RAW_sorted\\exp101\""
   ]
  },
  {
   "cell_type": "code",
   "execution_count": 6,
   "metadata": {},
   "outputs": [],
   "source": [
    "# %load select_directory('dst')\n",
    "dst = r\"D:\\PSI21_10NI\\processed\\00_Overlap_corrected\\exp101\""
   ]
  },
  {
   "cell_type": "code",
   "execution_count": 7,
   "metadata": {
    "scrolled": true
   },
   "outputs": [
    {
     "name": "stderr",
     "output_type": "stream",
     "text": [
      "Processing Overlap Correction: 100%|█████████████| 6/6 [00:30<00:00,  5.08s/it]\n",
      "Processing Overlap Correction: 100%|█████████████| 6/6 [00:29<00:00,  4.88s/it]\n",
      "Processing Overlap Correction: 100%|█████████████| 6/6 [00:29<00:00,  4.86s/it]\n",
      "Processing Overlap Correction: 100%|█████████████| 6/6 [00:38<00:00,  6.34s/it]\n",
      "Processing Overlap Correction: 100%|█████████████| 6/6 [00:38<00:00,  6.45s/it]\n",
      "Processing Overlap Correction: 100%|█████████████| 6/6 [00:41<00:00,  6.89s/it]\n",
      "Processing Overlap Correction: 100%|█████████████| 6/6 [00:38<00:00,  6.49s/it]\n",
      "Processing Overlap Correction: 100%|█████████████| 6/6 [00:37<00:00,  6.26s/it]\n",
      "Processing Overlap Correction: 100%|█████████████| 6/6 [00:40<00:00,  6.75s/it]\n",
      "Processing Overlap Correction: 100%|█████████████| 1/1 [00:06<00:00,  6.91s/it]\n",
      "Processing Overlap Correction: 100%|█████████████| 6/6 [00:39<00:00,  6.56s/it]\n",
      "Processing Overlap Correction: 100%|███████████| 12/12 [01:21<00:00,  6.80s/it]\n"
     ]
    }
   ],
   "source": [
    "mcpoc_correct_batch(src, dst, 22500 , scale=1.0, savetype=float, desc='Processing Overlap Correction')"
   ]
  },
  {
   "cell_type": "code",
   "execution_count": null,
   "metadata": {},
   "outputs": [],
   "source": [
    "# %load select_directory('src_ref')\n",
    "src_ref = r\"D:\\PSI21_10NI\\RAW_sorted\\exp101\""
   ]
  },
  {
   "cell_type": "code",
   "execution_count": null,
   "metadata": {},
   "outputs": [],
   "source": [
    "# %load select_directory('dst_ref')\n",
    "dst_ref = dst"
   ]
  },
  {
   "cell_type": "code",
   "execution_count": null,
   "metadata": {},
   "outputs": [],
   "source": [
    "mcpoc_correct_batch(src_ref, dst_ref, 9000 , scale=1.0, savetype=float, desc='Processing Overlap Correction')"
   ]
  },
  {
   "cell_type": "code",
   "execution_count": null,
   "metadata": {},
   "outputs": [],
   "source": []
  }
 ],
 "metadata": {
  "kernelspec": {
   "display_name": "Python 3",
   "language": "python",
   "name": "python3"
  },
  "language_info": {
   "codemirror_mode": {
    "name": "ipython",
    "version": 3
   },
   "file_extension": ".py",
   "mimetype": "text/x-python",
   "name": "python",
   "nbconvert_exporter": "python",
   "pygments_lexer": "ipython3",
   "version": "3.7.5"
  },
  "toc": {
   "base_numbering": 1,
   "nav_menu": {},
   "number_sections": true,
   "sideBar": true,
   "skip_h1_title": true,
   "title_cell": "Table of Contents",
   "title_sidebar": "Contents",
   "toc_cell": false,
   "toc_position": {},
   "toc_section_display": true,
   "toc_window_display": false
  }
 },
 "nbformat": 4,
 "nbformat_minor": 4
}
