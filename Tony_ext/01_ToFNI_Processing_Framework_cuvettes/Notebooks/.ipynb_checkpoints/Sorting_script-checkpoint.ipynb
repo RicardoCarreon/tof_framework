{
 "cells": [
  {
   "cell_type": "markdown",
   "metadata": {},
   "source": [
    "# Image processing notebook: Electrolytes Yvette 01 February 2020\n",
    "\n",
    "### 00 - Introduction\n",
    "This notebook demonstrates the use of Jupyter for a Time-of-Flight image processing task. The data corresponds to ToF neutron imaging of coin cells filled with different organic compounds and electrolytes.\n",
    "\n",
    "*Note: This notebook was written and tested on Windows 10. Running on Mac or Linux machines may need adjustments, e.g. in the path specificationsApplied processing*\n",
    "\n",
    "### Applied processing\n",
    "The following processing parts from the averaged pulses, which were already overlap corrected:\n",
    "\n",
    "- filtering\n",
    "- Pulse averaging and separtion per experiments\n",
    "- identification and weighting of OBs for each experiment\n",
    "- scrubbing correction\n",
    "- intensity correction\n",
    "- transmission image generation\n",
    "\n",
    "\n",
    "### Important Considerations\n",
    "This notebook starts from the point **after** the overlap correction presented in the image below. This step before (done in a separate notebook) format its destionation directory to be taken by this notebook to process the images correctly.\n",
    "\n",
    "Transmission Image:\n",
    "\n",
    "\\begin{equation}\n",
    "T_{img} \\rightarrow \\frac{I}{I_{0}}=\\frac{\\frac{\\bar{Img}}{OB_{weight}} - SBKG_{img}}{\\frac{\\bar{Ref}}{OB_{weight}} - SBKG_{ref}}\n",
    "\\end{equation}"
   ]
  },
  {
   "cell_type": "code",
   "execution_count": null,
   "metadata": {},
   "outputs": [],
   "source": []
  },
  {
   "cell_type": "code",
   "execution_count": null,
   "metadata": {},
   "outputs": [],
   "source": []
  },
  {
   "cell_type": "code",
   "execution_count": null,
   "metadata": {},
   "outputs": [],
   "source": []
  },
  {
   "cell_type": "code",
   "execution_count": null,
   "metadata": {},
   "outputs": [],
   "source": []
  },
  {
   "cell_type": "code",
   "execution_count": null,
   "metadata": {},
   "outputs": [],
   "source": []
  },
  {
   "cell_type": "code",
   "execution_count": null,
   "metadata": {},
   "outputs": [],
   "source": []
  },
  {
   "cell_type": "code",
   "execution_count": null,
   "metadata": {},
   "outputs": [],
   "source": []
  }
 ],
 "metadata": {
  "kernelspec": {
   "display_name": "Python 3",
   "language": "python",
   "name": "python3"
  },
  "language_info": {
   "codemirror_mode": {
    "name": "ipython",
    "version": 3
   },
   "file_extension": ".py",
   "mimetype": "text/x-python",
   "name": "python",
   "nbconvert_exporter": "python",
   "pygments_lexer": "ipython3",
   "version": "3.7.5"
  },
  "toc": {
   "base_numbering": 1,
   "nav_menu": {},
   "number_sections": true,
   "sideBar": true,
   "skip_h1_title": true,
   "title_cell": "Table of Contents",
   "title_sidebar": "Contents",
   "toc_cell": false,
   "toc_position": {},
   "toc_section_display": true,
   "toc_window_display": false
  }
 },
 "nbformat": 4,
 "nbformat_minor": 2
}
