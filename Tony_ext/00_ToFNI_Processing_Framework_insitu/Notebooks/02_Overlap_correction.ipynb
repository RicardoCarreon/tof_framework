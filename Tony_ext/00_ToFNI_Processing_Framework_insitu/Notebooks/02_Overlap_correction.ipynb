{
 "cells": [
  {
   "cell_type": "markdown",
   "metadata": {},
   "source": [
    "# Image processing notebook: Overlap Correction and Pulse Averaging\n",
    "\n",
    "## 00 - Introduction\n",
    "This notebook gives the overlap corrected images and the images with averaged pulses. After this process, the image post processing should be applied to get the transmission image.\n",
    "\n",
    "## IMPORTANT\n",
    "This is valid for the experiments ordered for the `scrubbing` correction.\n",
    "\n",
    "**check any of the ShutterCount.txt files in the experiment to know the neutron count. Do not forget to modify it**\n",
    "\n",
    "### Applied processing\n",
    "The following processing is performed:\n",
    "\n",
    "- Overlap Correction \n",
    "\n",
    "\n",
    "### General notebook concept\n",
    "The general concept of this notebook is to perform the overlap correction and the averaging of the experiments as shown in the figure."
   ]
  },
  {
   "cell_type": "code",
   "execution_count": 1,
   "metadata": {},
   "outputs": [],
   "source": [
    "import sys\n",
    "sys.path.append(r'..\\proc_functions')\n",
    "from overlap_corr_mod import *"
   ]
  },
  {
   "cell_type": "code",
   "execution_count": 12,
   "metadata": {},
   "outputs": [],
   "source": [
    "# %load select_directory('src')\n",
    "src = r\"E:\\External_Tony\\02_rawdata\\exp3XX_proc\""
   ]
  },
  {
   "cell_type": "code",
   "execution_count": 13,
   "metadata": {},
   "outputs": [],
   "source": [
    "# %load select_directory('dst')\n",
    "dst = r\"E:\\External_Tony\\Processed\\exp3XX\\00_Overlap_corrected\""
   ]
  },
  {
   "cell_type": "code",
   "execution_count": 14,
   "metadata": {
    "scrolled": true
   },
   "outputs": [
    {
     "name": "stderr",
     "output_type": "stream",
     "text": [
      "Processing Overlap Correction: 100%|███████████| 28/28 [01:38<00:00,  3.51s/it]\n",
      "Processing Overlap Correction: 100%|███████████| 41/41 [02:21<00:00,  3.46s/it]\n",
      "Processing Overlap Correction: 100%|███████████| 22/22 [01:14<00:00,  3.36s/it]\n",
      "Processing Overlap Correction: 100%|███████████| 14/14 [00:45<00:00,  3.26s/it]\n",
      "Processing Overlap Correction: 100%|█████████████| 5/5 [00:15<00:00,  3.18s/it]\n"
     ]
    }
   ],
   "source": [
    "mcpoc_correct_batch(src, dst, 9000 , scale=1.0, savetype=float, desc='Processing Overlap Correction')"
   ]
  },
  {
   "cell_type": "code",
   "execution_count": null,
   "metadata": {},
   "outputs": [],
   "source": []
  }
 ],
 "metadata": {
  "kernelspec": {
   "display_name": "Python 3 (ipykernel)",
   "language": "python",
   "name": "python3"
  },
  "language_info": {
   "codemirror_mode": {
    "name": "ipython",
    "version": 3
   },
   "file_extension": ".py",
   "mimetype": "text/x-python",
   "name": "python",
   "nbconvert_exporter": "python",
   "pygments_lexer": "ipython3",
   "version": "3.7.5"
  },
  "toc": {
   "base_numbering": 1,
   "nav_menu": {},
   "number_sections": true,
   "sideBar": true,
   "skip_h1_title": true,
   "title_cell": "Table of Contents",
   "title_sidebar": "Contents",
   "toc_cell": false,
   "toc_position": {},
   "toc_section_display": true,
   "toc_window_display": false
  }
 },
 "nbformat": 4,
 "nbformat_minor": 4
}
