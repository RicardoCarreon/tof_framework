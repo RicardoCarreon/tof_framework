{
 "cells": [
  {
   "cell_type": "markdown",
   "metadata": {},
   "source": [
    "# Image processing notebook: from Transmission images to ROI-specific relative attenuation\n",
    "\n",
    "### 00 - Introduction\n",
    "\n",
    "\n",
    "### Applied processing\n"
   ]
  },
  {
   "cell_type": "code",
   "execution_count": null,
   "metadata": {},
   "outputs": [],
   "source": [
    "import sys\n",
    "sys.path.append(r'..\\framework')\n",
    "sys.path.append(r'..\\proc_functions')\n",
    "sys.path.append(r'..\\utilities')\n",
    "from stack_proc_func import *\n",
    "from img_utils_4_transmission import *\n",
    "from plot_cross_sections import *\n",
    "from relative_attenuation import *\n",
    "%matplotlib inline"
   ]
  },
  {
   "cell_type": "markdown",
   "metadata": {},
   "source": [
    "Where the transmission images are"
   ]
  },
  {
   "cell_type": "code",
   "execution_count": null,
   "metadata": {},
   "outputs": [],
   "source": [
    "%load select_directory('src_dir')"
   ]
  },
  {
   "cell_type": "code",
   "execution_count": null,
   "metadata": {},
   "outputs": [],
   "source": [
    "%load select_directory('dst_dir')"
   ]
  },
  {
   "cell_type": "markdown",
   "metadata": {},
   "source": [
    "the ToF measurements"
   ]
  },
  {
   "cell_type": "code",
   "execution_count": null,
   "metadata": {},
   "outputs": [],
   "source": [
    "%load select_file('spectra_file')"
   ]
  },
  {
   "cell_type": "markdown",
   "metadata": {},
   "source": [
    "The shutter times "
   ]
  },
  {
   "cell_type": "code",
   "execution_count": null,
   "metadata": {},
   "outputs": [],
   "source": [
    "%load select_file('shutters_file')"
   ]
  },
  {
   "cell_type": "markdown",
   "metadata": {},
   "source": [
    "The profile of the beam"
   ]
  },
  {
   "cell_type": "code",
   "execution_count": null,
   "metadata": {},
   "outputs": [],
   "source": [
    "%load select_file('Beam_profile')"
   ]
  },
  {
   "cell_type": "markdown",
   "metadata": {},
   "source": [
    "Basic information for creating the tables. There is no need to change it, except for the flight_path"
   ]
  },
  {
   "cell_type": "code",
   "execution_count": null,
   "metadata": {},
   "outputs": [],
   "source": [
    "flight_path = 5.5\n",
    "tof_name = 'ToF'\n",
    "profile_name = 'Profile'"
   ]
  },
  {
   "cell_type": "markdown",
   "metadata": {},
   "source": [
    "Creating Data Frames from the information in the files"
   ]
  },
  {
   "cell_type": "code",
   "execution_count": null,
   "metadata": {},
   "outputs": [],
   "source": [
    "table_tof = dataframe_from_file (spectra_file, [0], sep ='\\t', names = [tof_name])\n",
    "table_profile = dataframe_from_file (Beam_profile, [1], sep = ',', header = None,  names = [profile_name], skiprows = 1)\n",
    "table_shutters = dataframe_from_file (shutters_file, [1,2], sep = '\\t', header = None,  names = ['t1','t2'])"
   ]
  },
  {
   "cell_type": "markdown",
   "metadata": {},
   "source": [
    "The MCP detector has \"windows\". You can get the trapezoid correction and the center of mass per window [each_window=False].\n",
    "\n",
    "The zones_percentage refers to the lower base of the triangle and the rectangle zones.  "
   ]
  },
  {
   "cell_type": "code",
   "execution_count": null,
   "metadata": {},
   "outputs": [],
   "source": [
    "type(table_tof[tof_name])"
   ]
  },
  {
   "cell_type": "code",
   "execution_count": null,
   "metadata": {},
   "outputs": [],
   "source": [
    "idx_boundaries, boundaries = get_pulse_windows (table_tof,table_shutters)\n",
    "#idx_boundaries = len(table_tof[tof_name].to_list())\n",
    "cordX, cordY = get_eff_wavelength (table_tof[tof_name], table_profile[profile_name], idx_boundaries, each_window=False, \n",
    "                                   degree_fit = 3, plot_curve = True, weight_triang = [0.1,0.9], weight_top = [1,1], \n",
    "                                   zones_percentage = [0.375,0.25])"
   ]
  },
  {
   "cell_type": "markdown",
   "metadata": {},
   "source": [
    "Plot the curve and the (almost) effective wavelength "
   ]
  },
  {
   "cell_type": "code",
   "execution_count": null,
   "metadata": {},
   "outputs": [],
   "source": [
    "result = pd.concat([table_tof, table_profile], axis=1)\n",
    "wlt = convert_tof (cordX, flight_path = flight_path, result = 'wavelength')\n",
    "\n",
    "fig = plt.figure()\n",
    "ax1 = fig.add_subplot(111)\n",
    "ax2 = ax1.twiny()\n",
    "ax1.set_title('Curve Fit and Center of Mass')\n",
    "ax1.plot(result[tof_name], result[profile_name],'b*')\n",
    "ax1.set_xlabel('ToF [s]')\n",
    "    \n",
    "new_tick_locations = cordX\n",
    "ax2.set_xlim(ax1.get_xlim())\n",
    "ax2.set_xticks(new_tick_locations)\n",
    "conv = [round(elem, 2) for elem in convert_tof(new_tick_locations, flight_path = flight_path, result = 'wavelength') ]\n",
    "ax2.set_xticklabels(conv)\n",
    "ax2.set_xlabel(' Wavelenth '+ r'[$\\AA$]')\n",
    "\n",
    "ax3 = ax1.twiny()\n",
    "ax3.xaxis.set_ticks_position(\"bottom\")\n",
    "ax3.xaxis.set_label_position(\"bottom\")\n",
    "ax3.spines[\"bottom\"].set_position((\"axes\", -0.20))\n",
    "\n",
    "ax3.set_xlim(ax1.get_xlim())\n",
    "ax3.set_xticks(cordX)\n",
    "ticks = [(table_tof[tof_name].sub(i).abs().idxmin(axis=1)) for i in cordX]\n",
    "ax3.set_xticklabels(ticks)\n",
    "ax3.set_xlabel('Image Number')\n",
    "\n",
    "for x in cordX:\n",
    "    plt.axvline(x=x, color='k', linestyle=':')"
   ]
  },
  {
   "cell_type": "markdown",
   "metadata": {},
   "source": [
    "Set the range for the HE and LE regions"
   ]
  },
  {
   "cell_type": "code",
   "execution_count": null,
   "metadata": {},
   "outputs": [],
   "source": [
    "HE_n_LE = [(28,50),(68,90)]"
   ]
  },
  {
   "cell_type": "markdown",
   "metadata": {},
   "source": [
    "Prepare the folders ypu want to process"
   ]
  },
  {
   "cell_type": "code",
   "execution_count": null,
   "metadata": {},
   "outputs": [],
   "source": [
    "trans_imgs_dict = prep_stack_dict(src_dir)\n",
    "proc_folder01 = [key for key in trans_imgs_dict.keys() if 'batch01' in key]\n",
    "proc_folder02 = [key for key in trans_imgs_dict.keys() if 'batch02' in key]\n",
    "proc_folder03 = [key for key in trans_imgs_dict.keys() if 'batch03' in key]"
   ]
  },
  {
   "cell_type": "code",
   "execution_count": null,
   "metadata": {},
   "outputs": [],
   "source": [
    "proc_folder02"
   ]
  },
  {
   "cell_type": "markdown",
   "metadata": {},
   "source": [
    "This will save the relative attenuation images in the given folder"
   ]
  },
  {
   "cell_type": "code",
   "execution_count": null,
   "metadata": {},
   "outputs": [],
   "source": [
    "trans_imgs_dict = prep_stack_dict(src_dir)\n",
    "dst = dst_dir + '/batch_01'\n",
    "get_relative_att_stack (trans_imgs_dict, dst, HE_n_LE, proc_folder = proc_folder01)"
   ]
  },
  {
   "cell_type": "code",
   "execution_count": null,
   "metadata": {},
   "outputs": [],
   "source": [
    "trans_imgs_dict = prep_stack_dict(src_dir)\n",
    "dst = dst_dir + '/batch02'\n",
    "get_relative_att_stack (trans_imgs_dict, dst, HE_n_LE, proc_folder = proc_folder02)"
   ]
  },
  {
   "cell_type": "code",
   "execution_count": null,
   "metadata": {},
   "outputs": [],
   "source": [
    "trans_imgs_dict = prep_stack_dict(src_dir)\n",
    "dst = dst_dir + '/batch03'\n",
    "get_relative_att_stack (trans_imgs_dict, dst, HE_n_LE, proc_folder = proc_folder03)"
   ]
  }
 ],
 "metadata": {
  "kernelspec": {
   "display_name": "Python 3",
   "language": "python",
   "name": "python3"
  },
  "language_info": {
   "codemirror_mode": {
    "name": "ipython",
    "version": 3
   },
   "file_extension": ".py",
   "mimetype": "text/x-python",
   "name": "python",
   "nbconvert_exporter": "python",
   "pygments_lexer": "ipython3",
   "version": "3.7.5"
  },
  "toc": {
   "base_numbering": 1,
   "nav_menu": {},
   "number_sections": true,
   "sideBar": true,
   "skip_h1_title": true,
   "title_cell": "Table of Contents",
   "title_sidebar": "Contents",
   "toc_cell": false,
   "toc_position": {},
   "toc_section_display": true,
   "toc_window_display": false
  }
 },
 "nbformat": 4,
 "nbformat_minor": 2
}
