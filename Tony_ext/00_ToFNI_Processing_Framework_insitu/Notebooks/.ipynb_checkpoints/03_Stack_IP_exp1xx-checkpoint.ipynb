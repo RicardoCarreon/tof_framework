{
 "cells": [
  {
   "cell_type": "markdown",
   "metadata": {},
   "source": [
    "# Image processing notebook: From overlap corrected to transmission \n",
    "\n",
    "### 00 - Introduction\n",
    "This notebook demonstrates the use of Jupyter for a Time-of-Flight image processing task. The data corresponds to ToF neutron imaging of coin cells filled with different organic compounds and electrolytes.\n",
    "\n",
    "*Note: This notebook was written and tested on Windows 10. Running on Mac or Linux machines may need adjustments, e.g. in the path specificationsApplied processing*\n",
    "\n",
    "### Applied processing\n",
    "The following processing parts from the averaged pulses, which were already overlap corrected:\n",
    "\n",
    "- filtering\n",
    "- Pulse averaging and separtion per experiments\n",
    "- identification and weighting of OBs for each experiment\n",
    "- scrubbing correction\n",
    "- intensity correction\n",
    "- transmission image generation\n",
    "\n",
    "\n",
    "### Important Considerations\n",
    "This notebook starts from the point **after** the overlap correction presented in the image below. This step before (done in a separate notebook) format its destionation directory to be taken by this notebook to process the images correctly.\n",
    "\n",
    "Transmission Image:\n",
    "\n",
    "\\begin{equation}\n",
    "T_{img} \\rightarrow \\frac{I}{I_{0}}=\\frac{\\frac{\\bar{Img}}{OB_{weight}} - SBKG_{img}}{\\frac{\\bar{Ref}}{OB_{weight}} - SBKG_{ref}}\n",
    "\\end{equation}"
   ]
  },
  {
   "cell_type": "markdown",
   "metadata": {},
   "source": [
    "## 01 Initial settings\n",
    "Import all the required libraries"
   ]
  },
  {
   "cell_type": "code",
   "execution_count": null,
   "metadata": {
    "scrolled": true
   },
   "outputs": [],
   "source": [
    "import sys\n",
    "sys.path.append(r'..\\framework')\n",
    "sys.path.append(r'..\\proc_functions')\n",
    "from stack_proc_func import *\n",
    "from img_utils_mod import *\n",
    "import scipy.signal as sp\n",
    "%matplotlib inline"
   ]
  },
  {
   "cell_type": "markdown",
   "metadata": {},
   "source": [
    "### Select directories\n",
    "Select the source directory. This directory is where the images **after** the overlap correction were saved.\n",
    "Select the destination directory. Here is where the transmission images are going to be saved."
   ]
  },
  {
   "cell_type": "code",
   "execution_count": null,
   "metadata": {},
   "outputs": [],
   "source": [
    "# %load select_directory('src_dir')\n",
    "src_dir = r\"E:\\External_Tony\\Processed\\exp1XX\\00_Overlap_corrected\""
   ]
  },
  {
   "cell_type": "code",
   "execution_count": null,
   "metadata": {},
   "outputs": [],
   "source": [
    "# %load select_directory('dst_dir')\n",
    "dst_dir = r\"E:\\External_Tony\\Processed\\exp1XX\\01_Transmission_results\""
   ]
  },
  {
   "cell_type": "markdown",
   "metadata": {},
   "source": [
    "### Select working folders\n",
    "Once the directories are loaded, you can start to do a selection of the folders you want to process. <br>\n",
    "The next function loads the folders availableas a visual aid. However, you can avoid this step just by looking at the source folder in the windows explorer."
   ]
  },
  {
   "cell_type": "code",
   "execution_count": null,
   "metadata": {},
   "outputs": [],
   "source": [
    "all_folders = prep_stack_dict(src_dir)\n",
    "for key in all_folders.keys():\n",
    "    print(key)"
   ]
  },
  {
   "cell_type": "markdown",
   "metadata": {},
   "source": [
    "For this test we will select some folders that we want to process as '`proc_folder`' and our reference as '`ref_folder`'.\n",
    "\n",
    "* _note: `proc-folder` can take several strings as value, for that reason is a list of strings. On the other hand, `ref_folder` is always one, for that reason it is just a string._"
   ]
  },
  {
   "cell_type": "code",
   "execution_count": null,
   "metadata": {},
   "outputs": [],
   "source": [
    "proc_folder_01 = [\"02_exp102_00\",\"02_exp102_01\"]\n",
    "proc_folder_02 = [\"02_exp102_02\",\"02_exp102_03\",\"02_exp102_04\"]\n",
    "\n",
    "ref_folder = '01_so_ref'"
   ]
  },
  {
   "cell_type": "markdown",
   "metadata": {},
   "source": [
    "## 02 Filtering process definition\n",
    "Here we define the process that each image will have before the pulse averaging (if any).\n",
    "\n",
    "* _note: The sequence generated must contain the names of each function and at the end the 'stack_avg' function which performs the pulse averaging. <br> i.e.  test_seq = [`function_1`, `function_2`, `more functions`, `stack_avg`]_"
   ]
  },
  {
   "cell_type": "markdown",
   "metadata": {},
   "source": [
    "### White spots filtering\n",
    "The white spots are removed by applying a median filter of size 'ws_filter_size'"
   ]
  },
  {
   "cell_type": "code",
   "execution_count": null,
   "metadata": {},
   "outputs": [],
   "source": [
    "from skimage.filters import gaussian, median, meijering\n",
    "from skimage.morphology import disk\n",
    "\n",
    "def ws_filter(src_img, ws_filter_size, **kwargs):\n",
    "    return sp.medfilt2d(src_img.astype('float32'), ws_filter_size)\n",
    "\n",
    "def gaussian_filter(x, sigma,**kwargs):\n",
    "    return gaussian(x, sigma)\n",
    "\n",
    "def outlier_removal (img, threshold, **kwargs):\n",
    "    mask_x = np.where(img <= threshold)[0]\n",
    "    mask_y = np.where(img <= threshold)[1]\n",
    "    for x, y in zip(mask_x, mask_y) :\n",
    "        slice = img[max(0, x-1):x+1, max(0,y-1):y+1] # assuming you want 5x5 square\n",
    "        img[x,y] = np.mean([i for i in slice.flatten() if i > threshold])  # threshold is 0\n",
    "    return img\n",
    "\n",
    "def median_filter(x, **kwargs):\n",
    "    return median(x)\n",
    "def remove_nan (img, **kwargs):\n",
    "    return np.nan_to_num(img)"
   ]
  },
  {
   "cell_type": "code",
   "execution_count": null,
   "metadata": {},
   "outputs": [],
   "source": [
    "roi_crop = [1, 356, 509, 129]"
   ]
  },
  {
   "cell_type": "code",
   "execution_count": null,
   "metadata": {},
   "outputs": [],
   "source": [
    "test_seq = [crop_img, outlier_removal, stack_avg]"
   ]
  },
  {
   "cell_type": "markdown",
   "metadata": {},
   "source": [
    "## 03 Filter testing\n",
    "The `test_filter_stack` function test the filters given in the `test_seq` list and prints the image.<br> A selection of a testing folder named `test_folder` is required to proceed with the image checkout. <br> \n",
    "-If no specific image is selected, it automatically selects the image at the median point in the stack.<br>\n",
    "\n",
    "* _note: if the filtering functions inserted in the `test_seq` require aditional arguments or variables, they can be given as `**kwargs` inside the function parameters. i.e `ws_filter_size = 5` was given in the function for the ws_filter usage._"
   ]
  },
  {
   "cell_type": "code",
   "execution_count": null,
   "metadata": {},
   "outputs": [],
   "source": [
    "test_folder = '02_exp102_03'\n",
    "img = test_filtering_stack (src_dir,dst_dir, test_folder = test_folder, \n",
    "                            test_seq = test_seq, give_img=True, threshold = 0, roi_crop = roi_crop)\n",
    "img_stack = test_filtering_stack (src_dir,dst_dir, test_folder = test_folder, \n",
    "                            test_seq = test_seq, give_stack=True, threshold = 0, roi_crop = roi_crop)\n",
    "img_list = []\n",
    "for key, value in img_stack.items():\n",
    "    for imgs in value:\n",
    "        img_list.append(imgs[0])"
   ]
  },
  {
   "cell_type": "markdown",
   "metadata": {},
   "source": [
    "### Confirm the operations sequence\n",
    "After you are satisfied with the result, write the real sequence `seq` that will be used for all the images."
   ]
  },
  {
   "cell_type": "code",
   "execution_count": null,
   "metadata": {},
   "outputs": [],
   "source": [
    "seq = [crop_img, outlier_removal]"
   ]
  },
  {
   "cell_type": "markdown",
   "metadata": {},
   "source": [
    "## 04 Selecting ROIS and other variables\n",
    "Each campaign is different, if there are some requirements that the processing require, you can insert them as `**kwargs`. <br>\n",
    "In the case of this specific campaing (PSI19_03NI), the MCP detector did not adquire correctly the first 9 images in each process. For that reason, the processing needs to remove those images. Thus, we can slice the folder by givin the values that we want with `start_slice` and `end_slice`. \n",
    "\n",
    "* _note: If we want to slice the starting but not the end, it is just required to give the beginning (`start_slice`) and leave `end_slice` blank as in the next example._"
   ]
  },
  {
   "cell_type": "code",
   "execution_count": null,
   "metadata": {},
   "outputs": [],
   "source": []
  },
  {
   "cell_type": "markdown",
   "metadata": {},
   "source": [
    "### ROI selection (program still needs the implementation of the CSV option)\n",
    "One important parameter are the ROIs, specifically the non-changing-area (nca). Fo that reason, we do a use an interactive command to select them.\n",
    "\n",
    "If more ROIs were selected (other than the first -nca-), these will be used to create a CSV file at the end with the all the transmission values included. <br>**waiting for implementation in stack_batch_proc**\n",
    "\n",
    "The window for ROI selection still open in a separate window, I am checking the way to have it printed in the notebook to avoid changing any mistake \n",
    "\n",
    "* _note: the option 'flip_image = True' is required to agree with imageJ format of showing the image. In stack_batch_proc it is implemented in the intensity correction part (TFC_corr). The modifications done to img_utils _\n",
    "\n",
    "**to select several ROIs: for each ROI selected, press ENTER, when finish, press ESC**"
   ]
  },
  {
   "cell_type": "code",
   "execution_count": null,
   "metadata": {},
   "outputs": [],
   "source": [
    "# %load select_rois(img, list_rois = ['nca'])\n",
    "nca = [405, 73, 50, 11]"
   ]
  },
  {
   "cell_type": "markdown",
   "metadata": {},
   "source": [
    "To agree with the selected ROIs, the image is shown with its labeling, being label 1 the first ROI selected i.e nca, second label 2 and so forth"
   ]
  },
  {
   "cell_type": "code",
   "execution_count": null,
   "metadata": {},
   "outputs": [],
   "source": [
    "show_img(img, dr = [nca])"
   ]
  },
  {
   "cell_type": "code",
   "execution_count": null,
   "metadata": {},
   "outputs": [],
   "source": [
    "reg_img = get_img(src_dir + '/reg_img_LE.fits')\n",
    "reg_rois = reg_rois = [([403, 94, 56, 14], 'h'), ([402, 70, 56, 16], 'h'), ([313, 17, 84, 16], 'h'), ([108, 94, 48, 15], 'h'),\n",
    "([206, 17, 48, 44], 'h'), ([256, 66, 48, 44], 'v')]#, ([23, 19, 27, 90], 'v'), ([413, 70, 27, 39], 'v')]\n",
    "show_img_rois(img, dr = [(reg_rois, 'yellow')])"
   ]
  },
  {
   "cell_type": "code",
   "execution_count": null,
   "metadata": {},
   "outputs": [],
   "source": [
    "img_reg_corr1, res1 = img_registration (img, reg_img[0], num_iter =3, method = '2', rois_list = reg_rois, dof=['tx','ty'])\n",
    "img_reg_corr2, res2 = img_registration (img, reg_img[0], num_iter =3, method = '3', rois_list = reg_rois, dof=['tx','ty'])"
   ]
  },
  {
   "cell_type": "code",
   "execution_count": null,
   "metadata": {},
   "outputs": [],
   "source": [
    "plt.rcParams['figure.figsize'] = [15, 8]\n",
    "plt.imshow(img_reg_corr1/reg_img[0], cmap = 'flag')\n",
    "print(res1)"
   ]
  },
  {
   "cell_type": "code",
   "execution_count": null,
   "metadata": {},
   "outputs": [],
   "source": [
    "plt.rcParams['figure.figsize'] = [15, 8]\n",
    "plt.imshow(img_reg_corr2/reg_img[0], cmap = 'flag')\n",
    "print(res2)"
   ]
  },
  {
   "cell_type": "markdown",
   "metadata": {},
   "source": [
    "## 05 BB mask\n",
    "The BB mask is a fits image saved in the source directory. if all the experiments are aligned, one BB mask can be used. However, if there are misalignments, several BB masks must be given. \n",
    "\n",
    "**a program that creates the BB mask for that specific experiment would be extremly useful in this case so we do not need to care anymore about BBs**\n",
    "\n",
    "For the moment being and as an example, the program takes a real (for testing) BB mask to include it in the process"
   ]
  },
  {
   "cell_type": "code",
   "execution_count": null,
   "metadata": {},
   "outputs": [],
   "source": [
    "ref_mask_img = get_img(src_dir + '/bb_mask.fits')\n",
    "img_mask_img = get_img(src_dir + '/bb_mask.fits')"
   ]
  },
  {
   "cell_type": "markdown",
   "metadata": {},
   "source": [
    "## 06 Run first transmission image test \n",
    "This will give you one transmission image as an example of the whole process.\n",
    "\n",
    "Set a starting and ending slice (to speed up the process, do not choose more tan 10 images or do it in different parts of the spectrum)"
   ]
  },
  {
   "cell_type": "code",
   "execution_count": null,
   "metadata": {
    "scrolled": true
   },
   "outputs": [],
   "source": [
    "stack_test = stack_batch_proc (src_dir, dst_dir, ref_mask_img,img_mask_img, reg_img, proc_folder = [test_folder], \n",
    "         ref_folder = ref_folder, avg_seq = seq, save_results = False, start_slice = 30, end_slice = 40, \n",
    "         print_TFC = True, nca=nca, threshold = 0, roi_crop =roi_crop, stack_avg=False, scrubbing=True, \n",
    "        HE_LE = ([3,18],[68,83]), num_iter = 3, method = '2')"
   ]
  },
  {
   "cell_type": "markdown",
   "metadata": {},
   "source": [
    "### Testing the NCA region \n",
    "\n",
    "This region is characterized for having a value of 1. The process might have an error if this region has values greater that 0.05% of the theoretical one."
   ]
  },
  {
   "cell_type": "code",
   "execution_count": null,
   "metadata": {},
   "outputs": [],
   "source": [
    "nca_reg =[]\n",
    "for key, val in stack_test.items():\n",
    "    print(key)\n",
    "    for key2, im in val.items():\n",
    "        print(key2)\n",
    "        for arr in im:\n",
    "            nca_reg.append(np.mean(roi_in_image(arr[0],nca)))\n",
    "        print('value cropped reg {}'.format(np.mean(nca_reg)))\n",
    "        print(nca_reg)\n",
    "print(len(nca_reg))\n",
    "print('Average value in the NCA is {}'.format(np.mean(nca_reg)))"
   ]
  },
  {
   "cell_type": "markdown",
   "metadata": {},
   "source": [
    "## 07 Full image processing\n",
    "After all tests are correct, you can process and do the full image process for all the folders that you want with the captured parameters.\n",
    "\n",
    "The result of using the next function is that all the transmission images generated with it are saved with a .fits extension in your destination folder and HE and LE sections will be saved in another 2 folders."
   ]
  },
  {
   "cell_type": "markdown",
   "metadata": {},
   "source": [
    "__Note:__ If you are sure fo the process, you can leave `proc_folder` empty `proc_folder = []`,the program will process all folders included in the source directory."
   ]
  },
  {
   "cell_type": "code",
   "execution_count": null,
   "metadata": {},
   "outputs": [],
   "source": [
    "stack_batch_proc (src_dir, dst_dir, ref_mask_img, img_mask_img, reg_img, proc_folder = proc_folder_01, \n",
    "                  ref_folder = ref_folder, avg_seq = seq ,nca=nca, threshold = 0, roi_crop =roi_crop, \n",
    "                  stack_avg=False, scrubbing=True, HE_LE = ([3,18],[68,83]),num_iter = 3, method = '3', rois_list = reg_rois)"
   ]
  },
  {
   "cell_type": "code",
   "execution_count": null,
   "metadata": {},
   "outputs": [],
   "source": [
    "stack_batch_proc (src_dir, dst_dir, ref_mask_img, img_mask_img, reg_img, proc_folder = proc_folder_02, \n",
    "                  ref_folder = ref_folder, avg_seq = seq ,nca=nca, threshold = 0, roi_crop =roi_crop, \n",
    "                  stack_avg=False, scrubbing=True, HE_LE = ([3,18],[68,83]),num_iter = 3, method = '3', rois_list = reg_rois)"
   ]
  },
  {
   "cell_type": "code",
   "execution_count": null,
   "metadata": {},
   "outputs": [],
   "source": []
  }
 ],
 "metadata": {
  "kernelspec": {
   "display_name": "Python 3 (ipykernel)",
   "language": "python",
   "name": "python3"
  },
  "language_info": {
   "codemirror_mode": {
    "name": "ipython",
    "version": 3
   },
   "file_extension": ".py",
   "mimetype": "text/x-python",
   "name": "python",
   "nbconvert_exporter": "python",
   "pygments_lexer": "ipython3",
   "version": "3.7.5"
  },
  "toc": {
   "base_numbering": 1,
   "nav_menu": {},
   "number_sections": true,
   "sideBar": true,
   "skip_h1_title": true,
   "title_cell": "Table of Contents",
   "title_sidebar": "Contents",
   "toc_cell": false,
   "toc_position": {},
   "toc_section_display": true,
   "toc_window_display": false
  }
 },
 "nbformat": 4,
 "nbformat_minor": 4
}
